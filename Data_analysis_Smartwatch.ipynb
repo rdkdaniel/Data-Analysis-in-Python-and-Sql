{
  "nbformat": 4,
  "nbformat_minor": 0,
  "metadata": {
    "colab": {
      "name": "Data analysis_Smartwatch",
      "provenance": [],
      "authorship_tag": "ABX9TyOHj+IcN2MoL6H4/VnwGsWa",
      "include_colab_link": true
    },
    "kernelspec": {
      "name": "python3",
      "display_name": "Python 3"
    },
    "language_info": {
      "name": "python"
    }
  },
  "cells": [
    {
      "cell_type": "markdown",
      "metadata": {
        "id": "view-in-github",
        "colab_type": "text"
      },
      "source": [
        "<a href=\"https://colab.research.google.com/github/rdkdaniel/Data-Analysis-in-Python-and-Sql/blob/main/Data_analysis_Smartwatch.ipynb\" target=\"_parent\"><img src=\"https://colab.research.google.com/assets/colab-badge.svg\" alt=\"Open In Colab\"/></a>"
      ]
    },
    {
      "cell_type": "code",
      "execution_count": 1,
      "metadata": {
        "id": "LmEduLS8W15Y"
      },
      "outputs": [],
      "source": [
        "#Libraries\n",
        "import pandas as pd\n",
        "import numpy as np\n",
        "import matplotlib.pyplot as plt\n",
        "import plotly.express as px\n",
        "import plotly.graph_objects as go"
      ]
    },
    {
      "cell_type": "markdown",
      "source": [
        "# **Kaggle to colab**"
      ],
      "metadata": {
        "id": "hLyaJWAqJWoo"
      }
    },
    {
      "cell_type": "code",
      "source": [
        "#Connecting colab with kaggle to get the data\n",
        "#Install the Kaggle library\n",
        "!pip install kaggle"
      ],
      "metadata": {
        "colab": {
          "base_uri": "https://localhost:8080/"
        },
        "id": "9QbmT78nJdoJ",
        "outputId": "6cc44b31-7db9-41a4-b8f7-3d154035e26e"
      },
      "execution_count": 2,
      "outputs": [
        {
          "output_type": "stream",
          "name": "stdout",
          "text": [
            "Looking in indexes: https://pypi.org/simple, https://us-python.pkg.dev/colab-wheels/public/simple/\n",
            "Requirement already satisfied: kaggle in /usr/local/lib/python3.7/dist-packages (1.5.12)\n",
            "Requirement already satisfied: requests in /usr/local/lib/python3.7/dist-packages (from kaggle) (2.23.0)\n",
            "Requirement already satisfied: tqdm in /usr/local/lib/python3.7/dist-packages (from kaggle) (4.64.0)\n",
            "Requirement already satisfied: python-dateutil in /usr/local/lib/python3.7/dist-packages (from kaggle) (2.8.2)\n",
            "Requirement already satisfied: urllib3 in /usr/local/lib/python3.7/dist-packages (from kaggle) (1.24.3)\n",
            "Requirement already satisfied: certifi in /usr/local/lib/python3.7/dist-packages (from kaggle) (2022.6.15)\n",
            "Requirement already satisfied: six>=1.10 in /usr/local/lib/python3.7/dist-packages (from kaggle) (1.15.0)\n",
            "Requirement already satisfied: python-slugify in /usr/local/lib/python3.7/dist-packages (from kaggle) (6.1.2)\n",
            "Requirement already satisfied: text-unidecode>=1.3 in /usr/local/lib/python3.7/dist-packages (from python-slugify->kaggle) (1.3)\n",
            "Requirement already satisfied: chardet<4,>=3.0.2 in /usr/local/lib/python3.7/dist-packages (from requests->kaggle) (3.0.4)\n",
            "Requirement already satisfied: idna<3,>=2.5 in /usr/local/lib/python3.7/dist-packages (from requests->kaggle) (2.10)\n"
          ]
        }
      ]
    },
    {
      "cell_type": "code",
      "source": [
        "#We should just download, since everything else was done before\n",
        "#Downloading dataset\n",
        "! kaggle datasets download dattasud/smartwatch-dataset"
      ],
      "metadata": {
        "colab": {
          "base_uri": "https://localhost:8080/"
        },
        "id": "GcCYbx_tJn-q",
        "outputId": "057109da-ec9f-4d19-f007-3b211294c6c2"
      },
      "execution_count": 3,
      "outputs": [
        {
          "output_type": "stream",
          "name": "stdout",
          "text": [
            "Traceback (most recent call last):\n",
            "  File \"/usr/local/bin/kaggle\", line 5, in <module>\n",
            "    from kaggle.cli import main\n",
            "  File \"/usr/local/lib/python3.7/dist-packages/kaggle/__init__.py\", line 23, in <module>\n",
            "    api.authenticate()\n",
            "  File \"/usr/local/lib/python3.7/dist-packages/kaggle/api/kaggle_api_extended.py\", line 166, in authenticate\n",
            "    self.config_file, self.config_dir))\n",
            "OSError: Could not find kaggle.json. Make sure it's located in /root/.kaggle. Or use the environment method.\n"
          ]
        }
      ]
    },
    {
      "cell_type": "code",
      "source": [
        "#Okay, let us copy \"kaggle.json\" to the folder kaggle\n",
        "#Copy the “kaggle.json” into this new directory\n",
        "! cp kaggle.json ~/.kaggle/"
      ],
      "metadata": {
        "id": "6C7ZKxFYJ37T"
      },
      "execution_count": 4,
      "outputs": []
    },
    {
      "cell_type": "code",
      "source": [
        "#Now download the dataset\n",
        "! kaggle datasets download dattasud/smartwatch-dataset"
      ],
      "metadata": {
        "colab": {
          "base_uri": "https://localhost:8080/"
        },
        "id": "qf7Kem5fKDcO",
        "outputId": "bdeb2c5d-ae1a-489d-8aec-83ab28fd9fae"
      },
      "execution_count": 5,
      "outputs": [
        {
          "output_type": "stream",
          "name": "stdout",
          "text": [
            "Warning: Your Kaggle API key is readable by other users on this system! To fix this, you can run 'chmod 600 /root/.kaggle/kaggle.json'\n",
            "Downloading smartwatch-dataset.zip to /content\n",
            "  0% 0.00/1.93M [00:00<?, ?B/s]\n",
            "100% 1.93M/1.93M [00:00<00:00, 186MB/s]\n"
          ]
        }
      ]
    },
    {
      "cell_type": "code",
      "source": [
        "#That warning up there about the kaggle API key being public\n",
        "! chmod 600 ~/.kaggle/kaggle.json"
      ],
      "metadata": {
        "id": "IMpIU-5FK88_"
      },
      "execution_count": 10,
      "outputs": []
    },
    {
      "cell_type": "markdown",
      "source": [
        "**And it worked!**\n",
        "\n",
        "**So, confirmed, we always have to copy the \"kaggle.json\" file to the kaggle folder everytime we in a new notebook. However, the folder seem to remain, together with its permissions.**"
      ],
      "metadata": {
        "id": "r_2nBb2tKJmF"
      }
    },
    {
      "cell_type": "code",
      "source": [
        "#Unzipping the dataset\n",
        "!unzip smartwatch-dataset.zip"
      ],
      "metadata": {
        "colab": {
          "base_uri": "https://localhost:8080/"
        },
        "id": "949jUCFpKcNe",
        "outputId": "3958fd55-853e-412a-9a6c-523661d4a614"
      },
      "execution_count": 6,
      "outputs": [
        {
          "output_type": "stream",
          "name": "stdout",
          "text": [
            "Archive:  smartwatch-dataset.zip\n",
            "  inflating: smartwatch.csv          \n"
          ]
        }
      ]
    },
    {
      "cell_type": "markdown",
      "source": [
        "# **The usual code can continue now**"
      ],
      "metadata": {
        "id": "i8-gC62lKlY0"
      }
    },
    {
      "cell_type": "code",
      "source": [
        "#Load dataset\n",
        "smartwatch = pd.read_csv('smartwatch.csv')"
      ],
      "metadata": {
        "id": "f0_iFbAeXHcx"
      },
      "execution_count": 7,
      "outputs": []
    },
    {
      "cell_type": "code",
      "source": [
        "print(smartwatch.head())"
      ],
      "metadata": {
        "id": "CVrpVZuQXPT2",
        "outputId": "32f12b8b-5ded-4e76-9ca0-9f7c53686030",
        "colab": {
          "base_uri": "https://localhost:8080/"
        }
      },
      "execution_count": 8,
      "outputs": [
        {
          "output_type": "stream",
          "name": "stdout",
          "text": [
            "   Unnamed: 0  X  MagneticFieldX  MagneticFieldY  MagneticFieldZ  \\\n",
            "0           1  1             0.0             0.0             0.0   \n",
            "1           2  2             0.0             0.0             0.0   \n",
            "2           3  3             0.0             0.0             0.0   \n",
            "3           4  4             0.0             0.0             0.0   \n",
            "4           5  5             0.0             0.0             0.0   \n",
            "\n",
            "   Z.AxisAgle.Azimuth.  X.AxisAngle.Pitch.  Y.AxisAngle.Roll.  GyroX  GyroY  \\\n",
            "0                  0.0                 0.0                0.0    0.0    0.0   \n",
            "1                  0.0                 0.0                0.0    0.0    0.0   \n",
            "2                  0.0                 0.0                0.0    0.0    0.0   \n",
            "3                  0.0                 0.0                0.0    0.0    0.0   \n",
            "4                  0.0                 0.0                0.0    0.0    0.0   \n",
            "\n",
            "   GyroZ  posId    x    y  \n",
            "0    0.0     -1 -1.0 -1.0  \n",
            "1    0.0     -1 -1.0 -1.0  \n",
            "2    0.0     -1 -1.0 -1.0  \n",
            "3    0.0     -1 -1.0 -1.0  \n",
            "4    0.0     -1 -1.0 -1.0  \n"
          ]
        }
      ]
    },
    {
      "cell_type": "code",
      "source": [
        "#Checking for null values\n",
        "print(smartwatch.isnull().sum())"
      ],
      "metadata": {
        "id": "GGikii7BA9IJ",
        "outputId": "2b67e204-6566-40eb-a783-29ea5522aeca",
        "colab": {
          "base_uri": "https://localhost:8080/"
        }
      },
      "execution_count": null,
      "outputs": [
        {
          "output_type": "stream",
          "name": "stdout",
          "text": [
            "index        0\n",
            "source       0\n",
            "timestamp    0\n",
            "values       0\n",
            "dtype: int64\n"
          ]
        }
      ]
    },
    {
      "cell_type": "code",
      "source": [
        "#No null values\n",
        "#Looking at info about the columns in the data\n",
        "print(smartwatch.info())"
      ],
      "metadata": {
        "id": "j5MQZasRBEmK",
        "outputId": "b0dec0df-a0a6-46e8-b477-442d897968fe",
        "colab": {
          "base_uri": "https://localhost:8080/"
        }
      },
      "execution_count": null,
      "outputs": [
        {
          "output_type": "stream",
          "name": "stdout",
          "text": [
            "<class 'pandas.core.frame.DataFrame'>\n",
            "RangeIndex: 200471 entries, 0 to 200470\n",
            "Data columns (total 4 columns):\n",
            " #   Column     Non-Null Count   Dtype \n",
            "---  ------     --------------   ----- \n",
            " 0   index      200471 non-null  int64 \n",
            " 1   source     200471 non-null  object\n",
            " 2   timestamp  200471 non-null  object\n",
            " 3   values     200471 non-null  object\n",
            "dtypes: int64(1), object(3)\n",
            "memory usage: 6.1+ MB\n",
            "None\n"
          ]
        }
      ]
    },
    {
      "cell_type": "code",
      "source": [
        "print(smartwatch.describe())"
      ],
      "metadata": {
        "id": "GOx5lChHBVIL",
        "outputId": "309f3fb3-88a3-4cd9-d663-152ebb0f556c",
        "colab": {
          "base_uri": "https://localhost:8080/"
        }
      },
      "execution_count": null,
      "outputs": [
        {
          "output_type": "stream",
          "name": "stdout",
          "text": [
            "               index\n",
            "count  200471.000000\n",
            "mean   100235.000000\n",
            "std     57871.137245\n",
            "min         0.000000\n",
            "25%     50117.500000\n",
            "50%    100235.000000\n",
            "75%    150352.500000\n",
            "max    200470.000000\n"
          ]
        }
      ]
    },
    {
      "cell_type": "code",
      "source": [],
      "metadata": {
        "id": "FeBXdCBrCH_L"
      },
      "execution_count": null,
      "outputs": []
    }
  ]
}