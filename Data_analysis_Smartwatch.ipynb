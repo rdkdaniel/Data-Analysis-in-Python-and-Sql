{
  "nbformat": 4,
  "nbformat_minor": 0,
  "metadata": {
    "colab": {
      "name": "Data analysis_Smartwatch",
      "provenance": [],
      "authorship_tag": "ABX9TyNkCTGgPkXpFXOvL93t7lK/",
      "include_colab_link": true
    },
    "kernelspec": {
      "name": "python3",
      "display_name": "Python 3"
    },
    "language_info": {
      "name": "python"
    }
  },
  "cells": [
    {
      "cell_type": "markdown",
      "metadata": {
        "id": "view-in-github",
        "colab_type": "text"
      },
      "source": [
        "<a href=\"https://colab.research.google.com/github/rdkdaniel/Data-Analysis-in-Python-and-Sql/blob/main/Data_analysis_Smartwatch.ipynb\" target=\"_parent\"><img src=\"https://colab.research.google.com/assets/colab-badge.svg\" alt=\"Open In Colab\"/></a>"
      ]
    },
    {
      "cell_type": "code",
      "execution_count": 3,
      "metadata": {
        "id": "LmEduLS8W15Y"
      },
      "outputs": [],
      "source": [
        "#Libraries\n",
        "import pandas as pd\n",
        "import numpy as np\n",
        "import matplotlib.pyplot as plt\n",
        "import plotly.express as px\n",
        "import plotly.graph_objects as go"
      ]
    },
    {
      "cell_type": "code",
      "source": [
        "#Load dataset\n",
        "smartwatch = pd.read_csv('smartwatch.csv')"
      ],
      "metadata": {
        "id": "f0_iFbAeXHcx"
      },
      "execution_count": 4,
      "outputs": []
    },
    {
      "cell_type": "code",
      "source": [
        "print(smartwatch.head())"
      ],
      "metadata": {
        "id": "CVrpVZuQXPT2",
        "outputId": "60e64a22-8a70-48bc-ddb2-2e7c4d98dd09",
        "colab": {
          "base_uri": "https://localhost:8080/"
        }
      },
      "execution_count": 5,
      "outputs": [
        {
          "output_type": "stream",
          "name": "stdout",
          "text": [
            "    index               source                timestamp  \\\n",
            "0  164349              battery  2017-06-29 07:45:56.262   \n",
            "1  164350        accelerometer  2017-06-29 07:46:01.263   \n",
            "2  164351              gravity  2017-06-29 07:46:01.324   \n",
            "3  164352  linear_acceleration  2017-06-29 07:46:01.329   \n",
            "4  164353            gyroscope  2017-06-29 07:46:01.402   \n",
            "\n",
            "                                             values  \n",
            "0                                            ['98']  \n",
            "1          ['-0.3440857', '0.68330383', '9.967361']  \n",
            "2          ['-0.34131828', '0.6573288', '9.778641']  \n",
            "3   ['-0.018068999', '0.034808993', '-0.033065796']  \n",
            "4  ['0.0041656494', '-0.0132751465', '0.006164551']  \n"
          ]
        }
      ]
    },
    {
      "cell_type": "code",
      "source": [
        "#Checking for null values\n",
        "print(smartwatch.isnull().sum())"
      ],
      "metadata": {
        "id": "GGikii7BA9IJ",
        "outputId": "2b67e204-6566-40eb-a783-29ea5522aeca",
        "colab": {
          "base_uri": "https://localhost:8080/"
        }
      },
      "execution_count": 7,
      "outputs": [
        {
          "output_type": "stream",
          "name": "stdout",
          "text": [
            "index        0\n",
            "source       0\n",
            "timestamp    0\n",
            "values       0\n",
            "dtype: int64\n"
          ]
        }
      ]
    },
    {
      "cell_type": "code",
      "source": [
        "#No null values\n",
        "#Looking at info about the columns in the data\n",
        "print(smartwatch.info())"
      ],
      "metadata": {
        "id": "j5MQZasRBEmK",
        "outputId": "b0dec0df-a0a6-46e8-b477-442d897968fe",
        "colab": {
          "base_uri": "https://localhost:8080/"
        }
      },
      "execution_count": 8,
      "outputs": [
        {
          "output_type": "stream",
          "name": "stdout",
          "text": [
            "<class 'pandas.core.frame.DataFrame'>\n",
            "RangeIndex: 200471 entries, 0 to 200470\n",
            "Data columns (total 4 columns):\n",
            " #   Column     Non-Null Count   Dtype \n",
            "---  ------     --------------   ----- \n",
            " 0   index      200471 non-null  int64 \n",
            " 1   source     200471 non-null  object\n",
            " 2   timestamp  200471 non-null  object\n",
            " 3   values     200471 non-null  object\n",
            "dtypes: int64(1), object(3)\n",
            "memory usage: 6.1+ MB\n",
            "None\n"
          ]
        }
      ]
    },
    {
      "cell_type": "code",
      "source": [
        "print(smartwatch.describe())"
      ],
      "metadata": {
        "id": "GOx5lChHBVIL",
        "outputId": "309f3fb3-88a3-4cd9-d663-152ebb0f556c",
        "colab": {
          "base_uri": "https://localhost:8080/"
        }
      },
      "execution_count": 11,
      "outputs": [
        {
          "output_type": "stream",
          "name": "stdout",
          "text": [
            "               index\n",
            "count  200471.000000\n",
            "mean   100235.000000\n",
            "std     57871.137245\n",
            "min         0.000000\n",
            "25%     50117.500000\n",
            "50%    100235.000000\n",
            "75%    150352.500000\n",
            "max    200470.000000\n"
          ]
        }
      ]
    },
    {
      "cell_type": "code",
      "source": [
        ""
      ],
      "metadata": {
        "id": "FeBXdCBrCH_L"
      },
      "execution_count": null,
      "outputs": []
    }
  ]
}